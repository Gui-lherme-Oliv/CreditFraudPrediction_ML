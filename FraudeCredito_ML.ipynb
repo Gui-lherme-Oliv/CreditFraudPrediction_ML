{
  "nbformat": 4,
  "nbformat_minor": 0,
  "metadata": {
    "colab": {
      "provenance": []
    },
    "kernelspec": {
      "name": "python3",
      "display_name": "Python 3"
    },
    "language_info": {
      "name": "python"
    }
  },
  "cells": [
    {
      "cell_type": "code",
      "execution_count": null,
      "metadata": {
        "id": "FgQHHoteFJc9"
      },
      "outputs": [],
      "source": [
        "#importando as bibliotecas\n",
        "import pandas as pd\n",
        "import numpy as np\n",
        "from sklearn.model_selection import train_test_split\n",
        "from sklearn.linear_model import LogisticRegression\n",
        "from sklearn.metrics import accuracy_score"
      ]
    },
    {
      "cell_type": "code",
      "source": [
        "#importando o arquivo\n",
        "df_credit = pd.read_csv(\"creditcard.csv\")"
      ],
      "metadata": {
        "id": "JwXQA5qcGUjN"
      },
      "execution_count": null,
      "outputs": []
    },
    {
      "cell_type": "code",
      "source": [
        "#verificando a quantidade de linhas\n",
        "print(len(df_credit))"
      ],
      "metadata": {
        "id": "XozlrIdxHTsS"
      },
      "execution_count": null,
      "outputs": []
    },
    {
      "cell_type": "code",
      "source": [
        "#verificando o dataframe\n",
        "df_credit.head()"
      ],
      "metadata": {
        "id": "8cgG3C3pHcbN"
      },
      "execution_count": null,
      "outputs": []
    },
    {
      "cell_type": "code",
      "source": [
        "#verificando os tipos dos dados dos atributos\n",
        "df_credit.dtypes"
      ],
      "metadata": {
        "id": "A0n0mlxnMekc"
      },
      "execution_count": null,
      "outputs": []
    },
    {
      "cell_type": "code",
      "source": [
        "#verificando a existência de valores nulos\n",
        "df_credit.isnull().sum()"
      ],
      "metadata": {
        "id": "rcFC0G_RMtbl"
      },
      "execution_count": null,
      "outputs": []
    },
    {
      "cell_type": "code",
      "source": [
        "#verificando as estatísticas descritivas das observações não fraude\n",
        "df_nao_fraude = df_credit.Amount[df_credit.Class == 0]\n",
        "\n",
        "df_nao_fraude.describe()"
      ],
      "metadata": {
        "id": "njCQwLhDM4YB"
      },
      "execution_count": null,
      "outputs": []
    },
    {
      "cell_type": "code",
      "source": [
        "#verificando as estatísticas descritivas das observações fraude\n",
        "df_fraude = df_credit.Amount[df_credit.Class == 1]\n",
        "\n",
        "df_fraude.describe()"
      ],
      "metadata": {
        "id": "U1st-yDuPClu"
      },
      "execution_count": null,
      "outputs": []
    },
    {
      "cell_type": "code",
      "source": [
        "#verificando a distribuição das observações (em fraude e não fraude)\n",
        "df_credit.Class.value_counts()"
      ],
      "metadata": {
        "id": "_0-TKc7LPI8G"
      },
      "execution_count": null,
      "outputs": []
    },
    {
      "cell_type": "code",
      "source": [
        "#armazenando apenas as observações fraude\n",
        "df_fraude = df_credit[df_credit.Class == 1]\n",
        "df_fraude"
      ],
      "metadata": {
        "id": "x0SUEqZhQnZk"
      },
      "execution_count": null,
      "outputs": []
    },
    {
      "cell_type": "code",
      "source": [
        "#armazenando apenas as observações não fraude\n",
        "df_nao_fraude = df_credit[df_credit.Class == 0]\n",
        "df_nao_fraude"
      ],
      "metadata": {
        "id": "xInFCIi9RYrk"
      },
      "execution_count": null,
      "outputs": []
    },
    {
      "cell_type": "code",
      "source": [
        "#utilizando a técnica de undersampling\n",
        "df_nao_fraudes = df_nao_fraude.sample(n=492) #randômico\n",
        "df_nao_fraudes"
      ],
      "metadata": {
        "id": "w4mLqSPkRe_1"
      },
      "execution_count": null,
      "outputs": []
    },
    {
      "cell_type": "code",
      "source": [
        "#concatenando os dois dataframes (df_nao_fraudes e df_fraude)\n",
        "df = pd.concat([df_nao_fraudes, df_fraude], axis = 0)\n",
        "df"
      ],
      "metadata": {
        "id": "7wqepR-fSduN"
      },
      "execution_count": null,
      "outputs": []
    },
    {
      "cell_type": "code",
      "source": [
        "#ajustando o índice das observações\n",
        "df.reset_index(inplace=True) #inplace = True pra fazer a alteração efetiva\n",
        "df"
      ],
      "metadata": {
        "id": "SGf0F57hTIeA"
      },
      "execution_count": null,
      "outputs": []
    },
    {
      "cell_type": "code",
      "source": [
        "#escolhendo as observações para a validação\n",
        "df_val_nao_fraude = df.head(5)\n",
        "df_val_fraude = df.tail(5)"
      ],
      "metadata": {
        "id": "eZp80mOrUjhM"
      },
      "execution_count": null,
      "outputs": []
    },
    {
      "cell_type": "code",
      "source": [
        "#removendo as observações de validação do dataset\n",
        "#removendo as 5 primeiras linhas (df_val_nao_fraude)\n",
        "df = df.iloc[5:]\n",
        "\n",
        "#removendo as 5 últimas linhas (df_val_fraude)\n",
        "df = df[:-5]\n",
        "\n",
        "df"
      ],
      "metadata": {
        "id": "DJNi0sbtV3wR"
      },
      "execution_count": null,
      "outputs": []
    },
    {
      "cell_type": "code",
      "source": [
        "#concatenando os dois dataframes de validação (df_val_nao_fraude e df_val_fraude)\n",
        "df_val_total = pd.concat([df_val_nao_fraude, df_val_fraude], axis = 0)\n",
        "\n",
        "df_val_total.reset_index(inplace=True)\n",
        "\n",
        "df_val_total_real = df_val_total.Class #quero só o campo Class para validar\n",
        "\n",
        "df_val_total"
      ],
      "metadata": {
        "id": "ho-YmyFJW6H0"
      },
      "execution_count": null,
      "outputs": []
    },
    {
      "cell_type": "code",
      "source": [
        "#retirando os atributos que não vou utilizar\n",
        "df_val_total = df_val_total.drop(['level_0','index','Time','Class'], axis=1)\n",
        "df_val_total"
      ],
      "metadata": {
        "id": "TvH32yu0YH_M"
      },
      "execution_count": null,
      "outputs": []
    },
    {
      "cell_type": "code",
      "source": [
        "#verificando a distribuição das observações fraude e não fraude\n",
        "df.Class.value_counts()"
      ],
      "metadata": {
        "id": "MsFzLmYgZ8hB"
      },
      "execution_count": null,
      "outputs": []
    },
    {
      "cell_type": "code",
      "source": [
        "#separando labels e features\n",
        "X = df.drop(['index','Time','Class'], axis=1)\n",
        "y = df['Class']"
      ],
      "metadata": {
        "id": "nPA4Ab_aw1jv"
      },
      "execution_count": null,
      "outputs": []
    },
    {
      "cell_type": "code",
      "source": [
        "#separando em dados de treino e de teste\n",
        "X_train, X_test, y_train, y_test = train_test_split(X, y, test_size=0.2, random_state=42, stratify=Y)"
      ],
      "metadata": {
        "id": "zsjfyelCyXkA"
      },
      "execution_count": null,
      "outputs": []
    },
    {
      "cell_type": "code",
      "source": [
        "#treinamento\n",
        "lr = LogisticRegression(max_iter=1000)\n",
        "lr.fit(X_train, y_train)\n",
        "pred = lr.predict(X_test)"
      ],
      "metadata": {
        "id": "ft6_K6puzvq1"
      },
      "execution_count": null,
      "outputs": []
    },
    {
      "cell_type": "code",
      "source": [
        "#acurácia do treinamento\n",
        "acc = accuracy_score(y_test, pred)\n",
        "f'Acurácia do treinamento: {acc*100:.2f}%'"
      ],
      "metadata": {
        "id": "v64nRe_86bgy"
      },
      "execution_count": null,
      "outputs": []
    },
    {
      "cell_type": "code",
      "source": [
        "#acurácia da validação\n",
        "pred = lr.predict(df_val_total)\n",
        "df = pd.DataFrame({'real':df_val_total_real, 'previsao':pred})\n",
        "acc = accuracy_score(df_val_total_real, pred)\n",
        "\n",
        "print(df)\n",
        "\n",
        "f'Acurácia da validação: {acc*100:.2f}%'"
      ],
      "metadata": {
        "id": "FrI6hHv40w6E"
      },
      "execution_count": null,
      "outputs": []
    }
  ]
}